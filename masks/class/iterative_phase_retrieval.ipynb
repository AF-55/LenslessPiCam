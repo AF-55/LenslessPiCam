{
 "cells": [
  {
   "cell_type": "code",
   "execution_count": 3,
   "metadata": {},
   "outputs": [],
   "source": [
    "import numpy as np\n",
    "import progressbar\n",
    "import matplotlib.pyplot as plt"
   ]
  },
  {
   "cell_type": "code",
   "execution_count": 2,
   "metadata": {},
   "outputs": [],
   "source": [
    "def gerchberg_saxton(target_amp, source_amp=None, n_iter=100):\n",
    "    \"\"\"\n",
    "    Iterative Fourier transform algorithm to determine phase pattern given\n",
    "    a Fourier relationship between source and target plane.\n",
    "    Parameters\n",
    "    ----------\n",
    "    target_amp : array_like\n",
    "        Target amplitude.\n",
    "    source_amp : array_like\n",
    "        Source amplitude, e.g. beam shape.\n",
    "    n_iter : int\n",
    "        Number of iterations to run algorithm.\n",
    "    \"\"\"\n",
    "\n",
    "    Nx = target_amp.shape[1]\n",
    "    Ny = target_amp.shape[0]\n",
    "\n",
    "    # initialize source if necessary\n",
    "    if source_amp is None:\n",
    "        source_amp = np.ones((Ny, Nx))\n",
    "\n",
    "    # - assumes FT as prop model, namely focus plane of lens\n",
    "    # - inverse to go back to source plane\n",
    "    target_amp = np.abs(np.fft.ifftshift(target_amp))\n",
    "    source_amp = np.abs(np.fft.ifftshift(source_amp))\n",
    "    source_field = np.fft.ifft2(target_amp)\n",
    "\n",
    "    bar = progressbar.ProgressBar()\n",
    "    for _ in bar(range(n_iter)):\n",
    "\n",
    "        # amplitude constraint at source\n",
    "        source_field = source_amp * np.exp(1j * np.angle(source_field))\n",
    "\n",
    "        # could replace with other propagater\n",
    "        target_field = np.fft.fft2(source_field)\n",
    "\n",
    "        # amplitude contraint at target\n",
    "        target_field = target_amp * np.exp(1j * np.angle(target_field))\n",
    "\n",
    "        # update source phase\n",
    "        source_field = np.fft.ifft2(target_field)\n",
    "\n",
    "    source_phase = np.fft.fftshift(np.angle(source_field))\n",
    "\n",
    "    return source_phase"
   ]
  },
  {
   "cell_type": "code",
   "execution_count": 4,
   "metadata": {},
   "outputs": [
    {
     "data": {
      "text/plain": [
       "<matplotlib.image.AxesImage at 0x125ca2d90>"
      ]
     },
     "execution_count": 4,
     "metadata": {},
     "output_type": "execute_result"
    },
    {
     "data": {
      "image/png": "[encoded data removed]",
      "text/plain": [
       "<Figure size 640x480 with 1 Axes>"
      ]
     },
     "metadata": {},
     "output_type": "display_data"
    }
   ],
   "source": [
    "mask = np.load('../FlatCam/MURA/MURA_101.npy')\n",
    "plt.imshow(mask, cmap='gray')"
   ]
  },
  {
   "cell_type": "code",
   "execution_count": null,
   "metadata": {},
   "outputs": [],
   "source": []
  }
 ],
 "metadata": {
  "kernelspec": {
   "display_name": "lensless",
   "language": "python",
   "name": "python3"
  },
  "language_info": {
   "codemirror_mode": {
    "name": "ipython",
    "version": 3
   },
   "file_extension": ".py",
   "mimetype": "text/x-python",
   "name": "python",
   "nbconvert_exporter": "python",
   "pygments_lexer": "ipython3",
   "version": "3.9.16"
  },
  "orig_nbformat": 4
 },
 "nbformat": 4,
 "nbformat_minor": 2
}
